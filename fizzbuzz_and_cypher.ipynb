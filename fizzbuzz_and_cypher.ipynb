{
 "cells": [
  {
   "cell_type": "code",
   "execution_count": 3,
   "metadata": {},
   "outputs": [
    {
     "name": "stdout",
     "output_type": "stream",
     "text": [
      "range(0, 100)\n"
     ]
    }
   ],
   "source": [
    "## Fizzbuzz\n",
    "numbers = range(0,100)\n",
    "\n",
    "for number in numbers:\n",
    "    if number%3==0 and number%5==0:\n",
    "        print('fizzbuzz')\n",
    "    elif number%3 == 0:\n",
    "        print('fizz')\n",
    "    elif number%5 == 0:\n",
    "        print('buzz')\n",
    "    else:\n",
    "        print(numbers)"
   ]
  },
  {
   "cell_type": "code",
   "execution_count": 15,
   "metadata": {},
   "outputs": [
    {
     "name": "stdout",
     "output_type": "stream",
     "text": [
      "igz\n"
     ]
    }
   ],
   "source": [
    "word = \"cat\"\n",
    "left_shift = 1\n",
    "# coded_word \"dbu\"\n",
    "# alphabet=\"abcdefghijklmnopqrstuvwxy\"\n",
    "# index = alphabet.index('c')+1\n",
    "# index\n",
    "\n",
    "def c_cypher(word,shift):\n",
    "    alphabet=\"abcdefghijklmnopqrstuvwxyz\"\n",
    "    coded_message=\"\"\n",
    "    for letter in word:\n",
    "        letter_index = alphabet.index(letter)\n",
    "        letter_cypher_index = letter_index+shift%26\n",
    "        coded_message = coded_message+alphabet[letter_cypher_index]\n",
    "    print(coded_message)\n",
    "\n",
    "c_cypher(\"cat\",32)"
   ]
  },
  {
   "cell_type": "code",
   "execution_count": 19,
   "metadata": {},
   "outputs": [
    {
     "name": "stdout",
     "output_type": "stream",
     "text": [
      "cat\n"
     ]
    }
   ],
   "source": [
    "def decypher_cypher(coded_word, shift):\n",
    "    alphabet = \"abcdefghijklmnopqrstuvwxyz\"\n",
    "    decoded_message=\"\"\n",
    "    for letter in coded_word:\n",
    "        letter_index = alphabet.index(letter)\n",
    "        letter_cypher_index = letter_index-shift%26\n",
    "        decoded_message = decoded_message+alphabet[letter_cypher_index]\n",
    "    print(decoded_message)\n",
    "\n",
    "decypher_cypher(\"igz\",32)"
   ]
  },
  {
   "cell_type": "code",
   "execution_count": 21,
   "metadata": {},
   "outputs": [
    {
     "data": {
      "text/plain": [
       "['this', 'is', 'the', 'word', 'david']"
      ]
     },
     "execution_count": 21,
     "metadata": {},
     "output_type": "execute_result"
    }
   ],
   "source": [
    "# Length of the last word\n",
    "words = \"this is the word david\"\n",
    "\n",
    "# def lenlastword() -> int:\n",
    "split_word = words.split(\" \")\n",
    "split_word\n",
    "# last_word = words(len(split_word))"
   ]
  }
 ],
 "metadata": {
  "kernelspec": {
   "display_name": "Python 3",
   "language": "python",
   "name": "python3"
  },
  "language_info": {
   "codemirror_mode": {
    "name": "ipython",
    "version": 3
   },
   "file_extension": ".py",
   "mimetype": "text/x-python",
   "name": "python",
   "nbconvert_exporter": "python",
   "pygments_lexer": "ipython3",
   "version": "3.9.6"
  },
  "orig_nbformat": 4
 },
 "nbformat": 4,
 "nbformat_minor": 2
}
